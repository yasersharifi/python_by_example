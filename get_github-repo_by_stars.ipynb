{
  "nbformat": 4,
  "nbformat_minor": 0,
  "metadata": {
    "colab": {
      "provenance": [],
      "authorship_tag": "ABX9TyNourvm3o1nwZAekuY3KAkI",
      "include_colab_link": true
    },
    "kernelspec": {
      "name": "python3",
      "display_name": "Python 3"
    },
    "language_info": {
      "name": "python"
    }
  },
  "cells": [
    {
      "cell_type": "markdown",
      "metadata": {
        "id": "view-in-github",
        "colab_type": "text"
      },
      "source": [
        "<a href=\"https://colab.research.google.com/github/yasersharifi/python_by_example/blob/main/get_github-repo_by_stars.ipynb\" target=\"_parent\"><img src=\"https://colab.research.google.com/assets/colab-badge.svg\" alt=\"Open In Colab\"/></a>"
      ]
    },
    {
      "cell_type": "code",
      "source": [
        "# Get github packes list filtered by stars, ...\n",
        "import requests\n",
        "from bs4 import BeautifulSoup"
      ],
      "metadata": {
        "id": "gYIs99m00_OE"
      },
      "execution_count": 13,
      "outputs": []
    },
    {
      "cell_type": "code",
      "source": [
        "query = \"nest js crud\" # You can change for your own keywords\n",
        "SEARCH_URL = f\"https://github.com/search?q={query}&type=repositories\"\n",
        "BASE_URL = \"https://github.com\""
      ],
      "metadata": {
        "id": "VAwOdVKw1FUL"
      },
      "execution_count": 14,
      "outputs": []
    },
    {
      "cell_type": "code",
      "source": [
        "def find_repo_list(search_url):\n",
        "  res = requests.get(search_url);\n",
        "\n",
        "  find_repos = []\n",
        "\n",
        "  # Find repos\n",
        "  if res.status_code == 200:\n",
        "    soup = BeautifulSoup(res.text, \"html.parser\")\n",
        "\n",
        "    element_by_id = soup.select(\".search-title\")\n",
        "\n",
        "    for elem in element_by_id:\n",
        "      anchorHref = elem.find(\"a\")[\"href\"]\n",
        "      if anchorHref is not None:\n",
        "        find_repos.append(elem.find(\"a\")[\"href\"])\n",
        "\n",
        "  return find_repos"
      ],
      "metadata": {
        "id": "IPP_MXQX1K_y"
      },
      "execution_count": 15,
      "outputs": []
    },
    {
      "cell_type": "code",
      "source": [
        "def get_repo_details(url):\n",
        "  repo_res = requests.get(url)\n",
        "  item = {\"repo\": url, \"stars\": \"0\"}\n",
        "\n",
        "  if repo_res.status_code == 200:\n",
        "    repo_soup = BeautifulSoup(repo_res.text, 'html.parser')\n",
        "    star_element = repo_soup.select('.Link.Link--muted[href*=\"stargazers\"] > strong')\n",
        "\n",
        "    if star_element is not None and len(star_element) > 0:\n",
        "      if star_element[0].text is not None:\n",
        "        item[\"stars\"] = star_element[0].text\n",
        "  return item\n"
      ],
      "metadata": {
        "id": "0soHWpzJ2lis"
      },
      "execution_count": 16,
      "outputs": []
    },
    {
      "cell_type": "code",
      "source": [
        "def get_repos_details(repos):\n",
        "  repos_by_stars = []\n",
        "\n",
        "  # Get finded repos details\n",
        "  for repo in repos:\n",
        "    repo_details = get_repo_details(BASE_URL + repo)\n",
        "    repos_by_stars.append(repo_details)\n",
        "  return repos_by_stars"
      ],
      "metadata": {
        "id": "ohkEwCg_104g"
      },
      "execution_count": 17,
      "outputs": []
    },
    {
      "cell_type": "code",
      "source": [
        "# Get specified repo details\n",
        "repo_details = get_repo_details(\"https://github.com/microsoft/sql-server-samples\")\n",
        "print(repo_details)"
      ],
      "metadata": {
        "colab": {
          "base_uri": "https://localhost:8080/"
        },
        "id": "LeexYY0y376g",
        "outputId": "6c24e678-59f2-4fd9-fa80-db538864013a"
      },
      "execution_count": 19,
      "outputs": [
        {
          "output_type": "stream",
          "name": "stdout",
          "text": [
            "{'repo': 'https://github.com/microsoft/sql-server-samples', 'stars': '10.6k'}\n"
          ]
        }
      ]
    },
    {
      "cell_type": "code",
      "execution_count": 18,
      "metadata": {
        "colab": {
          "base_uri": "https://localhost:8080/"
        },
        "id": "3qVnPJ2cuW60",
        "outputId": "6098260d-e41b-4a6b-a1a3-b511de5d2f3e"
      },
      "outputs": [
        {
          "output_type": "stream",
          "name": "stdout",
          "text": [
            "Repos for \"nest js crud\":\n",
            "\n",
            "Repo: https://github.com/topfullstack/nestjs-mongoose-crud\n",
            "Stars: 259\n",
            "----------------------------\n",
            "\n",
            "Repo: https://github.com/SolidZORO/leaa\n",
            "Stars: 475\n",
            "----------------------------\n",
            "\n",
            "Repo: https://github.com/crudjs/rest-nestjs-postgres\n",
            "Stars: 153\n",
            "----------------------------\n",
            "\n",
            "Repo: https://github.com/techiediaries/nestjs-crud-rest-api\n",
            "Stars: 18\n",
            "----------------------------\n",
            "\n",
            "Repo: https://github.com/wjq990112/nest-crud-demo\n",
            "Stars: 44\n",
            "----------------------------\n",
            "\n",
            "Repo: https://github.com/techiediaries/nest-angular-crud\n",
            "Stars: 11\n",
            "----------------------------\n",
            "\n",
            "Repo: https://github.com/sinouw/NestJs-Sqlite-Boilerplate\n",
            "Stars: 14\n",
            "----------------------------\n",
            "\n",
            "Repo: https://github.com/KashanSiddiqui/Nest-Js-Boiler-Plate\n",
            "Stars: 28\n",
            "----------------------------\n",
            "\n",
            "Repo: https://github.com/JulianCallejas/NestJS-Auth-REST-API-PostgreSQL-Prisma-Template\n",
            "Stars: 28\n",
            "----------------------------\n",
            "\n",
            "Repo: https://github.com/funmilolajire/invoice-app\n",
            "Stars: 22\n",
            "----------------------------\n",
            "\n"
          ]
        }
      ],
      "source": [
        "# Get repos details by keyword\n",
        "find_repos = find_repo_list(SEARCH_URL)\n",
        "repos_by_stars = get_repos_details(find_repos)\n",
        "\n",
        "\n",
        "print(f'Repos for \"{query}\":\\n')\n",
        "# print(repos_by_stars)\n",
        "for item in repos_by_stars:\n",
        "  print(f\"Repo: {item['repo']}\")\n",
        "  print(f\"Stars: {item['stars']}\")\n",
        "  print(\"----------------------------\\n\")"
      ]
    }
  ]
}