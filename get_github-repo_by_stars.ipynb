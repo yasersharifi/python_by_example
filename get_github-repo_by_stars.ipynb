{
  "nbformat": 4,
  "nbformat_minor": 0,
  "metadata": {
    "colab": {
      "provenance": [],
      "authorship_tag": "ABX9TyNbLx0gG45fm5ETuhSA5G6D",
      "include_colab_link": true
    },
    "kernelspec": {
      "name": "python3",
      "display_name": "Python 3"
    },
    "language_info": {
      "name": "python"
    }
  },
  "cells": [
    {
      "cell_type": "markdown",
      "metadata": {
        "id": "view-in-github",
        "colab_type": "text"
      },
      "source": [
        "<a href=\"https://colab.research.google.com/github/yasersharifi/python_by_example/blob/main/get_github-repo_by_stars.ipynb\" target=\"_parent\"><img src=\"https://colab.research.google.com/assets/colab-badge.svg\" alt=\"Open In Colab\"/></a>"
      ]
    },
    {
      "cell_type": "code",
      "execution_count": 1,
      "metadata": {
        "colab": {
          "base_uri": "https://localhost:8080/"
        },
        "id": "3qVnPJ2cuW60",
        "outputId": "3bcdf192-5396-41aa-bab0-38739144dbee"
      },
      "outputs": [
        {
          "output_type": "stream",
          "name": "stdout",
          "text": [
            "Repos for \"nest js crud\":\n",
            "\n",
            "Repo: https://github.com/topfullstack/nestjs-mongoose-crud\n",
            "Stars: 259\n",
            "----------------------------\n",
            "\n",
            "Repo: https://github.com/SolidZORO/leaa\n",
            "Stars: 475\n",
            "----------------------------\n",
            "\n",
            "Repo: https://github.com/crudjs/rest-nestjs-postgres\n",
            "Stars: 153\n",
            "----------------------------\n",
            "\n",
            "Repo: https://github.com/techiediaries/nestjs-crud-rest-api\n",
            "Stars: 18\n",
            "----------------------------\n",
            "\n",
            "Repo: https://github.com/wjq990112/nest-crud-demo\n",
            "Stars: 44\n",
            "----------------------------\n",
            "\n",
            "Repo: https://github.com/techiediaries/nest-angular-crud\n",
            "Stars: 11\n",
            "----------------------------\n",
            "\n",
            "Repo: https://github.com/sinouw/NestJs-Sqlite-Boilerplate\n",
            "Stars: 14\n",
            "----------------------------\n",
            "\n",
            "Repo: https://github.com/KashanSiddiqui/Nest-Js-Boiler-Plate\n",
            "Stars: 28\n",
            "----------------------------\n",
            "\n",
            "Repo: https://github.com/JulianCallejas/NestJS-Auth-REST-API-PostgreSQL-Prisma-Template\n",
            "Stars: 28\n",
            "----------------------------\n",
            "\n",
            "Repo: https://github.com/funmilolajire/invoice-app\n",
            "Stars: 22\n",
            "----------------------------\n",
            "\n"
          ]
        }
      ],
      "source": [
        "# Get github packes list filtered by stars, ...\n",
        "import requests\n",
        "from bs4 import BeautifulSoup\n",
        "\n",
        "query = \"nest js crud\" # You can change for your own keywords\n",
        "SEARCH_URL = f\"https://github.com/search?q={query}&type=repositories\"\n",
        "BASE_URL = \"https://github.com\"\n",
        "\n",
        "res = requests.get(SEARCH_URL);\n",
        "\n",
        "find_repos = []\n",
        "\n",
        "# Find repos\n",
        "if res.status_code == 200:\n",
        "  soup = BeautifulSoup(res.text, \"html.parser\")\n",
        "\n",
        "  element_by_id = soup.select(\".search-title\")\n",
        "\n",
        "\n",
        "  for elem in element_by_id:\n",
        "    anchorHref = elem.find(\"a\")[\"href\"]\n",
        "    if anchorHref is not None:\n",
        "      find_repos.append(elem.find(\"a\")[\"href\"])\n",
        "\n",
        "repos_by_stars = []\n",
        "\n",
        "# Get finded repos details\n",
        "for repo in find_repos:\n",
        "  repo_res = requests.get(BASE_URL + repo)\n",
        "\n",
        "  if repo_res.status_code == 200:\n",
        "    repo_soup = BeautifulSoup(repo_res.text, 'html.parser')\n",
        "    star_element = repo_soup.select('.Link.Link--muted[href*=\"stargazers\"] > strong')\n",
        "\n",
        "    item = {\"repo\": BASE_URL + repo, \"stars\": \"0\"}\n",
        "\n",
        "    if star_element is not None and len(star_element) > 0:\n",
        "      if star_element[0].text is not None:\n",
        "        item[\"stars\"] = star_element[0].text\n",
        "\n",
        "    repos_by_stars.append(item)\n",
        "\n",
        "print(f'Repos for \"{query}\":\\n')\n",
        "# print(repos_by_stars)\n",
        "for item in repos_by_stars:\n",
        "  print(f\"Repo: {item['repo']}\")\n",
        "  print(f\"Stars: {item['stars']}\")\n",
        "  print(\"----------------------------\\n\")"
      ]
    }
  ]
}