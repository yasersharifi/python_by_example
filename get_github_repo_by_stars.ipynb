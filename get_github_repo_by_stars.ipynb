{
  "nbformat": 4,
  "nbformat_minor": 0,
  "metadata": {
    "colab": {
      "provenance": [],
      "authorship_tag": "ABX9TyMxhTrp/c2M7tAhyOLBkMwE",
      "include_colab_link": true
    },
    "kernelspec": {
      "name": "python3",
      "display_name": "Python 3"
    },
    "language_info": {
      "name": "python"
    }
  },
  "cells": [
    {
      "cell_type": "markdown",
      "metadata": {
        "id": "view-in-github",
        "colab_type": "text"
      },
      "source": [
        "<a href=\"https://colab.research.google.com/github/yasersharifi/python_by_example/blob/main/get_github_repo_by_stars.ipynb\" target=\"_parent\"><img src=\"https://colab.research.google.com/assets/colab-badge.svg\" alt=\"Open In Colab\"/></a>"
      ]
    },
    {
      "cell_type": "code",
      "source": [
        "# Get github packes list filtered by stars, ...\n",
        "import requests\n",
        "from bs4 import BeautifulSoup"
      ],
      "metadata": {
        "id": "gYIs99m00_OE"
      },
      "execution_count": 119,
      "outputs": []
    },
    {
      "cell_type": "code",
      "source": [
        "query = \"nest js crud\" # You can change for your own keywords\n",
        "SEARCH_URL = f\"https://github.com/search?q={query}&type=repositories\"\n",
        "BASE_URL = \"https://github.com\""
      ],
      "metadata": {
        "id": "VAwOdVKw1FUL"
      },
      "execution_count": 120,
      "outputs": []
    },
    {
      "cell_type": "code",
      "source": [
        "def find_repo_list(search_url):\n",
        "  res = requests.get(search_url);\n",
        "\n",
        "  find_repos = []\n",
        "\n",
        "  # Find repos\n",
        "  if res.status_code == 200:\n",
        "    soup = BeautifulSoup(res.text, \"html.parser\")\n",
        "\n",
        "    element_by_id = soup.select(\".search-title\")\n",
        "\n",
        "    for elem in element_by_id:\n",
        "      anchorHref = elem.find(\"a\")[\"href\"]\n",
        "      if anchorHref is not None:\n",
        "        find_repos.append(elem.find(\"a\")[\"href\"])\n",
        "\n",
        "  return find_repos"
      ],
      "metadata": {
        "id": "IPP_MXQX1K_y"
      },
      "execution_count": 121,
      "outputs": []
    },
    {
      "cell_type": "code",
      "source": [
        "def get_repo_details(url):\n",
        "  repo_res = requests.get(url)\n",
        "  item = {\"repo\": url, \"about\": \"\", \"stars\": \"0\", \"watching\": \"0\", \"forks\": \"0\"}\n",
        "\n",
        "  if repo_res.status_code == 200:\n",
        "    repo_soup = BeautifulSoup(repo_res.text, 'html.parser')\n",
        "\n",
        "    element_about = repo_soup.select('.Layout-sidebar > .about-margin > div > div > div > p')\n",
        "    element_star = repo_soup.select('.Link.Link--muted[href*=\"stargazers\"] > strong')\n",
        "    element_forks = repo_soup.select('.Link.Link--muted[href*=\"forks\"] > strong')\n",
        "    element_watchers = repo_soup.select('.Link.Link--muted[href*=\"watchers\"] > strong')\n",
        "\n",
        "    if element_about is not None and len(element_about) > 0:\n",
        "      if element_about[0].text is not None:\n",
        "        item[\"about\"] = element_about[0].text.strip()\n",
        "\n",
        "    if element_star is not None and len(element_star) > 0:\n",
        "        if element_star[0].text is not None:\n",
        "          item[\"stars\"] = element_star[0].text\n",
        "\n",
        "    if element_forks is not None and len(element_forks) > 0:\n",
        "      if element_forks[0].text is not None:\n",
        "        item[\"forks\"] = element_forks[0].text\n",
        "\n",
        "    if element_watchers is not None and len(element_watchers) > 0:\n",
        "        if element_watchers[0].text is not None:\n",
        "          item[\"watching\"] = element_watchers[0].text\n",
        "\n",
        "\n",
        "  return item\n"
      ],
      "metadata": {
        "id": "0soHWpzJ2lis"
      },
      "execution_count": 122,
      "outputs": []
    },
    {
      "cell_type": "code",
      "source": [
        "def get_repos_details(repos):\n",
        "  repos_by_stars = []\n",
        "\n",
        "  # Get finded repos details\n",
        "  for repo in repos:\n",
        "    repo_details = get_repo_details(BASE_URL + repo)\n",
        "    repos_by_stars.append(repo_details)\n",
        "  return repos_by_stars"
      ],
      "metadata": {
        "id": "ohkEwCg_104g"
      },
      "execution_count": 123,
      "outputs": []
    },
    {
      "cell_type": "code",
      "source": [
        "# Get specified repo details\n",
        "repo_details = get_repo_details(\"https://github.com/microsoft/sql-server-samples\")\n",
        "\n",
        "for key, value in repo_details.items():\n",
        "  print(f\"{key}: {value}\")"
      ],
      "metadata": {
        "colab": {
          "base_uri": "https://localhost:8080/"
        },
        "id": "LeexYY0y376g",
        "outputId": "5c26017a-0536-4df3-8ad1-2f7195167765"
      },
      "execution_count": 124,
      "outputs": [
        {
          "output_type": "stream",
          "name": "stdout",
          "text": [
            "repo: https://github.com/microsoft/sql-server-samples\n",
            "about: Azure Data SQL Samples - Official Microsoft GitHub Repository containing code samples for SQL Server, Azure SQL, Azure Synapse, and Azure SQL Edge\n",
            "stars: 10.6k\n",
            "watching: 768\n",
            "forks: 9k\n"
          ]
        }
      ]
    },
    {
      "cell_type": "code",
      "execution_count": 127,
      "metadata": {
        "colab": {
          "base_uri": "https://localhost:8080/"
        },
        "id": "3qVnPJ2cuW60",
        "outputId": "82172fe3-bfac-404d-ea11-e013b450ec01"
      },
      "outputs": [
        {
          "output_type": "stream",
          "name": "stdout",
          "text": [
            "Repos for \"nest js crud\":\n",
            "\n",
            "repo: https://github.com/topfullstack/nestjs-mongoose-crud\n",
            "about: Nest.js crud module for mongoose models without `nestjsx/crud`\n",
            "stars: 259\n",
            "watching: 7\n",
            "forks: 37\n",
            "----------------------------\n",
            "\n",
            "repo: https://github.com/SolidZORO/leaa\n",
            "about: Leaa is a monorepo restful CMS / Admin built with Nest.js (@nestjsx/crud, node.js) and Ant Design.\n",
            "stars: 475\n",
            "watching: 25\n",
            "forks: 59\n",
            "----------------------------\n",
            "\n",
            "repo: https://github.com/crudjs/rest-nestjs-postgres\n",
            "about: CrudJS implemented as a REST API, using Nest.js and Postgres\n",
            "stars: 153\n",
            "watching: 7\n",
            "forks: 53\n",
            "----------------------------\n",
            "\n",
            "repo: https://github.com/techiediaries/nestjs-crud-rest-api\n",
            "about: Nest.js CRUD REST API Example\n",
            "stars: 18\n",
            "watching: 2\n",
            "forks: 8\n",
            "----------------------------\n",
            "\n",
            "repo: https://github.com/wjq990112/nest-crud-demo\n",
            "about: 掘金好文：《写给前端的 Nest.js 教程——10分钟上手后端接口开发》配套 Demo\n",
            "stars: 44\n",
            "watching: 1\n",
            "forks: 11\n",
            "----------------------------\n",
            "\n",
            "repo: https://github.com/techiediaries/nest-angular-crud\n",
            "about: Nest.js & Angular 7 CRUD REST API\n",
            "stars: 11\n",
            "watching: 1\n",
            "forks: 8\n",
            "----------------------------\n",
            "\n",
            "repo: https://github.com/sinouw/NestJs-Sqlite-Boilerplate\n",
            "about: Contacts Crud with Nest JS\n",
            "stars: 14\n",
            "watching: 1\n",
            "forks: 5\n",
            "----------------------------\n",
            "\n",
            "repo: https://github.com/KashanSiddiqui/Nest-Js-Boiler-Plate\n",
            "about: Nest Js Boilerplate with JWT authentication, CRUD functions and payment gateways.\n",
            "stars: 28\n",
            "watching: 1\n",
            "forks: 6\n",
            "----------------------------\n",
            "\n",
            "repo: https://github.com/JulianCallejas/NestJS-Auth-REST-API-PostgreSQL-Prisma-Template\n",
            "about: NestJS Auth REST API Template is designed to jumpstart your development process with a robust user authentication system and protected routes. Built using Nest.js, Prisma, and Postgres. Includes registration, login, JWT authentication, and a CRUD API for users table. The API is also fully documented using Swagger and Postman..\n",
            "stars: 28\n",
            "watching: 1\n",
            "forks: 10\n",
            "----------------------------\n",
            "\n",
            "repo: https://github.com/funmilolajire/invoice-app\n",
            "about: a full-stack invoicing application built with next.js and nest.js\n",
            "stars: 22\n",
            "watching: 2\n",
            "forks: 7\n",
            "----------------------------\n",
            "\n"
          ]
        }
      ],
      "source": [
        "# Get repos details by keyword\n",
        "find_repos = find_repo_list(SEARCH_URL)\n",
        "repos_by_stars = get_repos_details(find_repos)\n",
        "\n",
        "\n",
        "print(f'Repos for \"{query}\":\\n')\n",
        "# print(repos_by_stars)\n",
        "for item in repos_by_stars:\n",
        "  for key, value in item.items():\n",
        "    print(f\"{key}: {value}\")\n",
        "  print(\"----------------------------\\n\")"
      ]
    }
  ]
}