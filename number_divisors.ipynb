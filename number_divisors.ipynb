{
  "nbformat": 4,
  "nbformat_minor": 0,
  "metadata": {
    "colab": {
      "provenance": [],
      "authorship_tag": "ABX9TyMUqFJ34W1bUQI/oxvPKkPW",
      "include_colab_link": true
    },
    "kernelspec": {
      "name": "python3",
      "display_name": "Python 3"
    },
    "language_info": {
      "name": "python"
    }
  },
  "cells": [
    {
      "cell_type": "markdown",
      "metadata": {
        "id": "view-in-github",
        "colab_type": "text"
      },
      "source": [
        "<a href=\"https://colab.research.google.com/github/yasersharifi/python_by_example/blob/main/number_divisors.ipynb\" target=\"_parent\"><img src=\"https://colab.research.google.com/assets/colab-badge.svg\" alt=\"Open In Colab\"/></a>"
      ]
    },
    {
      "cell_type": "code",
      "execution_count": 9,
      "metadata": {
        "colab": {
          "base_uri": "https://localhost:8080/"
        },
        "id": "Man5QAVdlf3s",
        "outputId": "dc5dbacd-583e-4b88-fe98-fd1b4c08f8de"
      },
      "outputs": [
        {
          "output_type": "stream",
          "name": "stdout",
          "text": [
            "Enter number: 10\n",
            "1\n",
            "2\n",
            "5\n",
            "10\n"
          ]
        }
      ],
      "source": [
        "# Get divisor of the number\n",
        "num = int(input(\"Enter number: \"))\n",
        "\n",
        "if num < 0:\n",
        "  print(\"Enter a positive number\")\n",
        "elif num == 1:\n",
        "  print(1)\n",
        "else:\n",
        "  print(1)\n",
        "  i = 2\n",
        "\n",
        "  while i <= num // 2:\n",
        "    r = num % i\n",
        "    if r == 0:\n",
        "      print(i)\n",
        "    i += 1\n",
        "\n",
        "  print(num)"
      ]
    }
  ]
}