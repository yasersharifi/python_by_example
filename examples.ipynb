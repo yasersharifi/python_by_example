{
  "nbformat": 4,
  "nbformat_minor": 0,
  "metadata": {
    "colab": {
      "provenance": [],
      "authorship_tag": "ABX9TyN7EGQD/bAaPfrhion7opNf",
      "include_colab_link": true
    },
    "kernelspec": {
      "name": "python3",
      "display_name": "Python 3"
    },
    "language_info": {
      "name": "python"
    }
  },
  "cells": [
    {
      "cell_type": "markdown",
      "metadata": {
        "id": "view-in-github",
        "colab_type": "text"
      },
      "source": [
        "<a href=\"https://colab.research.google.com/github/yasersharifi/python_by_example/blob/main/examples.ipynb\" target=\"_parent\"><img src=\"https://colab.research.google.com/assets/colab-badge.svg\" alt=\"Open In Colab\"/></a>"
      ]
    },
    {
      "cell_type": "code",
      "execution_count": null,
      "metadata": {
        "colab": {
          "base_uri": "https://localhost:8080/"
        },
        "id": "Kb6LE_Fc3u7t",
        "outputId": "d75fa7bf-4a43-4385-ad8e-a6d0f0e54993"
      },
      "outputs": [
        {
          "output_type": "stream",
          "name": "stdout",
          "text": [
            "This number is Odd.\n"
          ]
        }
      ],
      "source": []
    },
    {
      "cell_type": "code",
      "source": [],
      "metadata": {
        "id": "UpBB-VYNRSUE"
      },
      "execution_count": null,
      "outputs": []
    },
    {
      "cell_type": "code",
      "source": [
        "num = int(input(\"Enter your number: \"))\n",
        "\n",
        "remaning = num % 2\n",
        "if remaning == 0:\n",
        "  print(\"This number is Even.\")\n",
        "else:\n",
        "  print(\"This number is Odd.\")"
      ],
      "metadata": {
        "colab": {
          "base_uri": "https://localhost:8080/"
        },
        "id": "tUOinzMi35SK",
        "outputId": "ce5c2a3e-3be7-4f5e-dcce-33018307a5ab"
      },
      "execution_count": null,
      "outputs": [
        {
          "output_type": "stream",
          "name": "stdout",
          "text": [
            "Enter your number: 23\n",
            "This number is Odd.\n"
          ]
        }
      ]
    },
    {
      "cell_type": "code",
      "source": [
        "# Find index of name in the list\n",
        "names = [\"Ali\", \"Yaser\", \"Hasan\", \"Hosein\", \"Jafar\"]\n",
        "\n",
        "searched_name = \"Jafar\"\n",
        "findIndex = -1\n",
        "\n",
        "i = 0\n",
        "while i < len(names):\n",
        "  if names[i] == searched_name:\n",
        "    findIndex = i\n",
        "    break\n",
        "  i += 1\n",
        "\n",
        "print(f\"Index of {searched_name} is {findIndex}\")"
      ],
      "metadata": {
        "colab": {
          "base_uri": "https://localhost:8080/"
        },
        "id": "QLLLzIyjBt3C",
        "outputId": "2c133028-54f7-447b-c8c4-13fd4449b1bf"
      },
      "execution_count": null,
      "outputs": [
        {
          "output_type": "stream",
          "name": "stdout",
          "text": [
            "Index of Jafar is 4\n"
          ]
        }
      ]
    },
    {
      "cell_type": "code",
      "source": [
        "# at - a new array containing the elements at the specified indices\n",
        "def at(arr, indices):\n",
        "  findedItems = []\n",
        "\n",
        "  i = 0\n",
        "  while i < len(indices):\n",
        "    index = indices[i]\n",
        "    findItem = arr[index]\n",
        "    findedItems.append(findItem)\n",
        "    i += 1\n",
        "\n",
        "  return findedItems\n",
        "\n",
        "names = [\"Java\", \"Python\", \"React\", \"Vue\", \"C++\", \"C#\", \"Svelte\", \"Nestjs\", \"Fast Api\"]\n",
        "\n",
        "pureLang = at(names, [0, 1, 4, 5])\n",
        "frontEndFrameworks = at(names, [2, 3, 6])\n",
        "backEndFrameworks = at(names, [7, 8])\n",
        "\n",
        "print(f\"Pure Land: {', '.join(pureLang)}\")\n",
        "print(f\"FrontEnd Frameworks: {', '.join(frontEndFrameworks)}\")\n",
        "print(f\"BackEnd Frameworks: {', '.join(backEndFrameworks)}\")\n",
        "\n"
      ],
      "metadata": {
        "colab": {
          "base_uri": "https://localhost:8080/"
        },
        "id": "qLxcXp_-RUUf",
        "outputId": "9d83965c-1cf6-45a5-dc10-a7ec840e2565"
      },
      "execution_count": 15,
      "outputs": [
        {
          "output_type": "stream",
          "name": "stdout",
          "text": [
            "Pure Land: Java, Python, C++, C#\n",
            "FrontEnd Frameworks: React, Vue, Svelte\n",
            "BackEnd Frameworks: Nestjs, Fast Api\n"
          ]
        }
      ]
    },
    {
      "cell_type": "code",
      "source": [
        "# Retrives the month and day then print the days\n",
        "# Example: day: 2, month: 1 => days = 2\n",
        "# Example2: day: 12, month: 2 => days = 42\n",
        "day = int(input(\"Enter the day: \"))\n",
        "month = int(input(\"Enter the month: \"))\n",
        "\n",
        "def get_days(day, month, isKabise):\n",
        "  if month <= 6:\n",
        "    days = (month - 1) * 31\n",
        "  elif month <= 11:\n",
        "    days = (month - 1) * 30\n",
        "  elif isKabise:\n",
        "    days = (month - 1) * 30\n",
        "  else:\n",
        "    days = (month - 1) * 29\n",
        "  return days + day\n",
        "\n",
        "print(f\"Days when year is Kabise: {get_days(day, month, True)}\")\n",
        "print(f\"Days when year isn't Kabise: {get_days(day, month, False)}\")\n"
      ],
      "metadata": {
        "colab": {
          "base_uri": "https://localhost:8080/"
        },
        "id": "qPR8m-1FOvMO",
        "outputId": "3bff5827-c23c-4e60-b6ae-babd68934ddb"
      },
      "execution_count": 5,
      "outputs": [
        {
          "output_type": "stream",
          "name": "stdout",
          "text": [
            "Enter the day: 2\n",
            "Enter the month: 3\n",
            "Days when year is Kabise: 64\n",
            "Days when year isn't Kabise: 64\n"
          ]
        }
      ]
    },
    {
      "cell_type": "code",
      "source": [
        "# Convert days to month and day\n",
        "days = int(input(\"Enter days: \"))\n",
        "\n",
        "month = 0\n",
        "day = 0\n",
        "isKabise = False\n",
        "\n",
        "if days <= 186:\n",
        "  month = days // 31\n",
        "  day = days % 31\n",
        "elif days <= 336 or isKabise:\n",
        "  month = 6 + ((days - 186) // 30)\n",
        "  day = ((days - 186) % 30)\n",
        "elif not isKabise:\n",
        "  month = 11 + ((days - 336) // 29)\n",
        "  days = ((days - 336) % 29)\n",
        "\n",
        "month = month + 1 # Month starts from 1 not 0\n",
        "\n",
        "print(f\"Month: {month} - Day: {day}\")"
      ],
      "metadata": {
        "colab": {
          "base_uri": "https://localhost:8080/"
        },
        "id": "CxhyTNTsumvQ",
        "outputId": "0db47378-0acd-49ad-c20c-572d0cdf7fee"
      },
      "execution_count": 6,
      "outputs": [
        {
          "output_type": "stream",
          "name": "stdout",
          "text": [
            "Enter days: 364\n",
            "Month: 12 - Day: 0\n"
          ]
        }
      ]
    },
    {
      "cell_type": "code",
      "source": [
        "# Get wikipedia article title\n",
        "import requests\n",
        "from bs4 import BeautifulSoup\n",
        "\n",
        "\n",
        "url = \"https://fa.wikipedia.org/wiki/%D8%AC%D9%86%DA%AF_%D8%AE%D9%84%DB%8C%D8%AC_%D9%81%D8%A7%D8%B1%D8%B3\"\n",
        "response = requests.get(url)\n",
        "\n",
        "if response.status_code == 200:\n",
        "  soup = BeautifulSoup(response.text)\n",
        "  print(soup.title.text)"
      ],
      "metadata": {
        "colab": {
          "base_uri": "https://localhost:8080/"
        },
        "id": "jj6dRQXiZboe",
        "outputId": "07d8c845-dc3b-4202-af16-981a740014f1"
      },
      "execution_count": 10,
      "outputs": [
        {
          "output_type": "stream",
          "name": "stdout",
          "text": [
            "جنگ خلیج فارس - ویکی‌پدیا، دانشنامهٔ آزاد\n"
          ]
        }
      ]
    },
    {
      "cell_type": "code",
      "source": [
        "# Print all even numbers between 0 til 100\n",
        "i = 2\n",
        "\n",
        "while i < 100:\n",
        "  print(i)\n",
        "  i += 2\n"
      ],
      "metadata": {
        "colab": {
          "base_uri": "https://localhost:8080/"
        },
        "id": "-BCSPwgOECT-",
        "outputId": "29a4d7a1-f8fe-427e-be7c-c5c826d711d5"
      },
      "execution_count": 6,
      "outputs": [
        {
          "output_type": "stream",
          "name": "stdout",
          "text": [
            "2\n",
            "4\n",
            "6\n",
            "8\n",
            "10\n",
            "12\n",
            "14\n",
            "16\n",
            "18\n",
            "20\n",
            "22\n",
            "24\n",
            "26\n",
            "28\n",
            "30\n",
            "32\n",
            "34\n",
            "36\n",
            "38\n",
            "40\n",
            "42\n",
            "44\n",
            "46\n",
            "48\n",
            "50\n",
            "52\n",
            "54\n",
            "56\n",
            "58\n",
            "60\n",
            "62\n",
            "64\n",
            "66\n",
            "68\n",
            "70\n",
            "72\n",
            "74\n",
            "76\n",
            "78\n",
            "80\n",
            "82\n",
            "84\n",
            "86\n",
            "88\n",
            "90\n",
            "92\n",
            "94\n",
            "96\n",
            "98\n"
          ]
        }
      ]
    },
    {
      "cell_type": "code",
      "source": [
        "# Cast to array\n",
        "\n",
        "def castArray(input):\n",
        "  if input is None:\n",
        "    return []\n",
        "  elif isinstance(input, list):\n",
        "    return input\n",
        "  return [input]\n",
        "\n",
        "\n",
        "print(castArray(1));\n",
        "print(castArray([1]));\n",
        "print(castArray({\"a\": 1}));\n",
        "print(castArray(None));\n",
        "print(castArray(True));\n",
        "print(castArray(False));"
      ],
      "metadata": {
        "colab": {
          "base_uri": "https://localhost:8080/"
        },
        "id": "bOzR7daFFTg5",
        "outputId": "1e4c245f-32c3-4e75-f527-40aa842502c4"
      },
      "execution_count": 20,
      "outputs": [
        {
          "output_type": "stream",
          "name": "stdout",
          "text": [
            "[1]\n",
            "[1]\n",
            "[{'a': 1}]\n",
            "[]\n",
            "[True]\n",
            "[False]\n"
          ]
        }
      ]
    },
    {
      "cell_type": "code",
      "source": [],
      "metadata": {
        "id": "ZCH-cIWQbpu2"
      },
      "execution_count": 70,
      "outputs": []
    }
  ]
}