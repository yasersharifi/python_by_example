{
  "nbformat": 4,
  "nbformat_minor": 0,
  "metadata": {
    "colab": {
      "provenance": [],
      "authorship_tag": "ABX9TyNQfaYePtpXhHL3Kg0PQE1w",
      "include_colab_link": true
    },
    "kernelspec": {
      "name": "python3",
      "display_name": "Python 3"
    },
    "language_info": {
      "name": "python"
    }
  },
  "cells": [
    {
      "cell_type": "markdown",
      "metadata": {
        "id": "view-in-github",
        "colab_type": "text"
      },
      "source": [
        "<a href=\"https://colab.research.google.com/github/yasersharifi/python_by_example/blob/main/examples.ipynb\" target=\"_parent\"><img src=\"https://colab.research.google.com/assets/colab-badge.svg\" alt=\"Open In Colab\"/></a>"
      ]
    },
    {
      "cell_type": "code",
      "execution_count": null,
      "metadata": {
        "colab": {
          "base_uri": "https://localhost:8080/"
        },
        "id": "Kb6LE_Fc3u7t",
        "outputId": "d75fa7bf-4a43-4385-ad8e-a6d0f0e54993"
      },
      "outputs": [
        {
          "output_type": "stream",
          "name": "stdout",
          "text": [
            "This number is Odd.\n"
          ]
        }
      ],
      "source": []
    },
    {
      "cell_type": "code",
      "source": [],
      "metadata": {
        "id": "UpBB-VYNRSUE"
      },
      "execution_count": null,
      "outputs": []
    },
    {
      "cell_type": "code",
      "source": [
        "num = int(input(\"Enter your number: \"))\n",
        "\n",
        "remaning = num % 2\n",
        "if remaning == 0:\n",
        "  print(\"This number is Even.\")\n",
        "else:\n",
        "  print(\"This number is Odd.\")"
      ],
      "metadata": {
        "colab": {
          "base_uri": "https://localhost:8080/"
        },
        "id": "tUOinzMi35SK",
        "outputId": "ce5c2a3e-3be7-4f5e-dcce-33018307a5ab"
      },
      "execution_count": null,
      "outputs": [
        {
          "output_type": "stream",
          "name": "stdout",
          "text": [
            "Enter your number: 23\n",
            "This number is Odd.\n"
          ]
        }
      ]
    },
    {
      "cell_type": "code",
      "source": [
        "# Find index of name in the list\n",
        "names = [\"Ali\", \"Yaser\", \"Hasan\", \"Hosein\", \"Jafar\"]\n",
        "\n",
        "searched_name = \"Jafar\"\n",
        "findIndex = -1\n",
        "\n",
        "i = 0\n",
        "while i < len(names):\n",
        "  if names[i] == searched_name:\n",
        "    findIndex = i\n",
        "    break\n",
        "  i += 1\n",
        "\n",
        "print(f\"Index of {searched_name} is {findIndex}\")"
      ],
      "metadata": {
        "colab": {
          "base_uri": "https://localhost:8080/"
        },
        "id": "QLLLzIyjBt3C",
        "outputId": "2c133028-54f7-447b-c8c4-13fd4449b1bf"
      },
      "execution_count": null,
      "outputs": [
        {
          "output_type": "stream",
          "name": "stdout",
          "text": [
            "Index of Jafar is 4\n"
          ]
        }
      ]
    },
    {
      "cell_type": "code",
      "source": [
        "# at - a new array containing the elements at the specified indices\n",
        "def at(arr, indices):\n",
        "  findedItems = []\n",
        "\n",
        "  i = 0\n",
        "  while i < len(indices):\n",
        "    index = indices[i]\n",
        "    findItem = arr[index]\n",
        "    findedItems.append(findItem)\n",
        "    i += 1\n",
        "\n",
        "  return findedItems\n",
        "\n",
        "names = [\"Java\", \"Python\", \"React\", \"Vue\", \"C++\", \"C#\", \"Svelte\", \"Nestjs\", \"Fast Api\"]\n",
        "\n",
        "pureLang = at(names, [0, 1, 4, 5])\n",
        "frontEndFrameworks = at(names, [2, 3, 6])\n",
        "backEndFrameworks = at(names, [7, 8])\n",
        "\n",
        "print(f\"Pure Land: {', '.join(pureLang)}\")\n",
        "print(f\"FrontEnd Frameworks: {', '.join(frontEndFrameworks)}\")\n",
        "print(f\"BackEnd Frameworks: {', '.join(backEndFrameworks)}\")\n",
        "\n"
      ],
      "metadata": {
        "colab": {
          "base_uri": "https://localhost:8080/"
        },
        "id": "qLxcXp_-RUUf",
        "outputId": "9d83965c-1cf6-45a5-dc10-a7ec840e2565"
      },
      "execution_count": 15,
      "outputs": [
        {
          "output_type": "stream",
          "name": "stdout",
          "text": [
            "Pure Land: Java, Python, C++, C#\n",
            "FrontEnd Frameworks: React, Vue, Svelte\n",
            "BackEnd Frameworks: Nestjs, Fast Api\n"
          ]
        }
      ]
    }
  ]
}